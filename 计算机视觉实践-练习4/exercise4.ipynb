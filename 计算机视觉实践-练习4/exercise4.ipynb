{
 "cells": [
  {
   "cell_type": "code",
   "execution_count": 10,
   "id": "bc7fb9dd",
   "metadata": {},
   "outputs": [],
   "source": [
    "import cv2\n",
    "import numpy as np"
   ]
  },
  {
   "cell_type": "code",
   "execution_count": 11,
   "id": "66679449",
   "metadata": {},
   "outputs": [],
   "source": [
    "# 读取图片\n",
    "image1 = cv2.imread(r\"C:\\Users\\28106\\Desktop\\1.jpg\")\n",
    "image2 = cv2.imread(r\"C:\\Users\\28106\\Desktop\\2.jpg\")"
   ]
  },
  {
   "cell_type": "code",
   "execution_count": 12,
   "id": "4c15d060",
   "metadata": {},
   "outputs": [],
   "source": [
    "# 转换为灰度图像\n",
    "gray1 = cv2.cvtColor(image1, cv2.COLOR_BGR2GRAY)\n",
    "gray2 = cv2.cvtColor(image2, cv2.COLOR_BGR2GRAY)"
   ]
  },
  {
   "cell_type": "code",
   "execution_count": 13,
   "id": "a4369cc4",
   "metadata": {},
   "outputs": [],
   "source": [
    "# 使用SIFT检测关键点和描述符\n",
    "sift = cv2.SIFT_create()\n",
    "keypoints1, descriptors1 = sift.detectAndCompute(gray1, None)\n",
    "keypoints2, descriptors2 = sift.detectAndCompute(gray2, None)"
   ]
  },
  {
   "cell_type": "code",
   "execution_count": 14,
   "id": "5921778d",
   "metadata": {},
   "outputs": [],
   "source": [
    "# 使用FLANN匹配器进行特征匹配\n",
    "flann_index_kdtree = 1\n",
    "index_params = dict(algorithm=flann_index_kdtree, trees=5)\n",
    "search_params = dict(checks=50)\n",
    "flann = cv2.FlannBasedMatcher(index_params, search_params)\n",
    "matches = flann.knnMatch(descriptors1, descriptors2, k=2)"
   ]
  },
  {
   "cell_type": "code",
   "execution_count": 15,
   "id": "499f232d",
   "metadata": {},
   "outputs": [],
   "source": [
    "# 保留良好的匹配\n",
    "good_matches = []\n",
    "for m, n in matches:\n",
    "    if m.distance < 0.7 * n.distance:\n",
    "        good_matches.append(m)\n"
   ]
  },
  {
   "cell_type": "code",
   "execution_count": 16,
   "id": "a559347f",
   "metadata": {},
   "outputs": [],
   "source": [
    "# 获取匹配点对的坐标\n",
    "src_pts = np.float32([keypoints1[m.queryIdx].pt for m in good_matches]).reshape(-1, 1, 2)\n",
    "dst_pts = np.float32([keypoints2[m.trainIdx].pt for m in good_matches]).reshape(-1, 1, 2)"
   ]
  },
  {
   "cell_type": "code",
   "execution_count": 17,
   "id": "4ad31ac2",
   "metadata": {},
   "outputs": [
    {
     "name": "stdout",
     "output_type": "stream",
     "text": [
      "[[ 2.80035023e-01 -1.13114300e+00  2.79842478e+03]\n",
      " [ 4.27558210e-01  7.11543334e-01 -3.96005237e+02]\n",
      " [-1.41467355e-04  1.25412726e-04  1.00000000e+00]]\n"
     ]
    }
   ],
   "source": [
    "# 计算单应性矩阵\n",
    "H, _ = cv2.findHomography(src_pts, dst_pts, cv2.RANSAC, 5.0)\n",
    "\n",
    "# 应用单应性变换\n",
    "result = cv2.warpPerspective(image1, H, (image2.shape[1], image2.shape[0]))\n",
    "print(H)"
   ]
  },
  {
   "cell_type": "code",
   "execution_count": 18,
   "id": "b7bd858c",
   "metadata": {},
   "outputs": [],
   "source": [
    "# 显示结果\n",
    "cv2.imwrite(r\"C:\\Users\\28106\\Desktop\\result.jpg\", result)\n",
    "cv2.waitKey(0)\n",
    "cv2.destroyAllWindows()"
   ]
  },
  {
   "cell_type": "code",
   "execution_count": null,
   "id": "96fc4bff",
   "metadata": {},
   "outputs": [],
   "source": []
  }
 ],
 "metadata": {
  "kernelspec": {
   "display_name": "Python [conda env:.conda-pytorch] *",
   "language": "python",
   "name": "conda-env-.conda-pytorch-py"
  },
  "language_info": {
   "codemirror_mode": {
    "name": "ipython",
    "version": 3
   },
   "file_extension": ".py",
   "mimetype": "text/x-python",
   "name": "python",
   "nbconvert_exporter": "python",
   "pygments_lexer": "ipython3",
   "version": "3.11.7"
  }
 },
 "nbformat": 4,
 "nbformat_minor": 5
}
